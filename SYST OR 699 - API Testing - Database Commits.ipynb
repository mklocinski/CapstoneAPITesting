{
 "cells": [
  {
   "cell_type": "code",
   "execution_count": null,
   "id": "e7f33daa-c914-4d34-a2d9-2a9484f8d38e",
   "metadata": {},
   "outputs": [],
   "source": [
    "import requests\n",
    "import pandas as pd\n",
    "from functools import reduce\n",
    "\n",
    "pd.options.display.float_format = '{:.0f}'.format\n"
   ]
  },
  {
   "cell_type": "code",
   "execution_count": null,
   "id": "86e0432c-b75d-4215-b5ed-65544b228792",
   "metadata": {},
   "outputs": [],
   "source": [
    "# Last n runs to review\n",
    "params = {\"n\": 50} # you can adjust this\n",
    "\n",
    "# Get run parameter data for last n runs\n",
    "url = \"http://localhost:8000/database/last_n_runs/tbl_model_run_params\"\n",
    "model_param_data_json = requests.get(url, params=params)\n",
    "model_param_data = model_param_data_json.json() \n",
    "model_param_data = pd.DataFrame(model_param_data)\n",
    "model_param_data = model_param_data[[\"cflt_run_id\", \"cint_nr_agents\"]].drop_duplicates()\n",
    "\n",
    "# Get local state data for last n runs\n",
    "url = \"http://localhost:8000/database/last_n_runs/tbl_local_state\"\n",
    "local_data_json = requests.get(url, params=params)\n",
    "local_data = local_data_json.json() \n",
    "local_data = pd.DataFrame(local_data)\n",
    "               \n",
    "# Get stop information for each run to know how many episodes we should expect to be recorded\n",
    "url = \"http://localhost:8000/database/last_n_runs/tbl_model_runs\"\n",
    "run_data_json = requests.get(url, params=params)\n",
    "run_data = run_data_json.json() \n",
    "run_data = pd.DataFrame(run_data)\n",
    "run_data_stop = run_data[run_data[\"cstr_model_status\"].isin([\"stopped\", \"completed\", \"ended in error\"])][[\"cflt_run_id\",\"cstr_model_status\"]]\n",
    "run_data_pauses = run_data[run_data[\"cstr_model_status\"]==\"paused\"][[\"cflt_run_id\",\"cstr_model_status\"]]\n",
    "run_data_pauses = run_data_pauses.groupby(\"cflt_run_id\").agg(pause_count=(\"cstr_model_status\", \"count\")).reset_index()\n"
   ]
  },
  {
   "cell_type": "code",
   "execution_count": null,
   "id": "d3622a54-d27c-46e5-b9d4-19165bd7e68e",
   "metadata": {},
   "outputs": [],
   "source": [
    "# Get the total number of episodes recorded and the max episode count. \n",
    "# If the number of episodes recroded is less than the episode count, that indicates that model output wasn't properly committed.\n",
    "# NOTE: When everything is working as expected, the episode_count value will always be greater than max_episode since the starting episode is 0. \n",
    "episode_counts = local_data.groupby('cflt_run_id').agg(\n",
    "    episode_count=('cint_episode_id', 'nunique'),  \n",
    "    max_episode=('cint_episode_id', 'max')       \n",
    ").reset_index()\n",
    "# NOTE: When everything is working as expected, the episode_count value will always be greater than max_episode since the starting episode is 0. \n",
    "# To check for inconsistencies, 1 is substractdd from episode_count to address this. \n",
    "episode_counts[\"Episode Inconsistencies\"] = episode_counts[\"max_episode\"] - (episode_counts[\"episode_count\"]-1) "
   ]
  },
  {
   "cell_type": "code",
   "execution_count": null,
   "id": "5ee1aedb-e63e-4b6e-bbe8-5fddc70cf61d",
   "metadata": {},
   "outputs": [],
   "source": [
    "to_join = [model_param_data, run_data_stop, run_data_pauses, episode_counts]\n",
    "review_df = reduce(lambda left, right: pd.merge(left, right, on='cflt_run_id', how='left'), to_join)\n",
    "review_df.columns = [\"Run ID\", \"# Drones\", \"Model Termination\", \"# Pauses\", \"# Episodes Recorded\", \"Max Episode Recorded\",\"Episode Inconsistencies\"]\n",
    "display(review_df.sort_values(\"Run ID\"))"
   ]
  },
  {
   "cell_type": "code",
   "execution_count": null,
   "id": "b56fbe62-eba3-44fa-a5cf-7da68afc1279",
   "metadata": {},
   "outputs": [],
   "source": []
  }
 ],
 "metadata": {
  "kernelspec": {
   "display_name": "Python 3 (ipykernel)",
   "language": "python",
   "name": "python3"
  },
  "language_info": {
   "codemirror_mode": {
    "name": "ipython",
    "version": 3
   },
   "file_extension": ".py",
   "mimetype": "text/x-python",
   "name": "python",
   "nbconvert_exporter": "python",
   "pygments_lexer": "ipython3",
   "version": "3.11.7"
  }
 },
 "nbformat": 4,
 "nbformat_minor": 5
}
